{
 "cells": [
  {
   "cell_type": "markdown",
   "metadata": {
    "collapsed": true,
    "pycharm": {
     "name": "#%% md\n"
    }
   },
   "source": [
    "# Contract Analysis\n",
    "- We apply the neural network with pre-trained weights on norms contained in contracts."
   ]
  },
  {
   "cell_type": "code",
   "execution_count": 1,
   "outputs": [
    {
     "data": {
      "text/plain": "Index(['norm1', 'norm2', 'conflict', 'majority_class', 'entailment_prob',\n       'contradiction_prob', 'neutral_prob', 'len_norm1', 'len_norm2'],\n      dtype='object')"
     },
     "metadata": {},
     "output_type": "display_data"
    },
    {
     "data": {
      "text/plain": "          len_norm1     len_norm2\ncount  13742.000000  13742.000000\nmean      34.560690     34.607335\nstd       34.305647     33.738959\nmin        1.000000      1.000000\n25%       15.000000     16.000000\n50%       26.000000     26.000000\n75%       43.000000     43.000000\n99%      167.000000    163.000000\nmax      427.000000    473.000000",
      "text/html": "<div>\n<style scoped>\n    .dataframe tbody tr th:only-of-type {\n        vertical-align: middle;\n    }\n\n    .dataframe tbody tr th {\n        vertical-align: top;\n    }\n\n    .dataframe thead th {\n        text-align: right;\n    }\n</style>\n<table border=\"1\" class=\"dataframe\">\n  <thead>\n    <tr style=\"text-align: right;\">\n      <th></th>\n      <th>len_norm1</th>\n      <th>len_norm2</th>\n    </tr>\n  </thead>\n  <tbody>\n    <tr>\n      <th>count</th>\n      <td>13742.000000</td>\n      <td>13742.000000</td>\n    </tr>\n    <tr>\n      <th>mean</th>\n      <td>34.560690</td>\n      <td>34.607335</td>\n    </tr>\n    <tr>\n      <th>std</th>\n      <td>34.305647</td>\n      <td>33.738959</td>\n    </tr>\n    <tr>\n      <th>min</th>\n      <td>1.000000</td>\n      <td>1.000000</td>\n    </tr>\n    <tr>\n      <th>25%</th>\n      <td>15.000000</td>\n      <td>16.000000</td>\n    </tr>\n    <tr>\n      <th>50%</th>\n      <td>26.000000</td>\n      <td>26.000000</td>\n    </tr>\n    <tr>\n      <th>75%</th>\n      <td>43.000000</td>\n      <td>43.000000</td>\n    </tr>\n    <tr>\n      <th>99%</th>\n      <td>167.000000</td>\n      <td>163.000000</td>\n    </tr>\n    <tr>\n      <th>max</th>\n      <td>427.000000</td>\n      <td>473.000000</td>\n    </tr>\n  </tbody>\n</table>\n</div>"
     },
     "metadata": {},
     "output_type": "execute_result",
     "execution_count": 1
    }
   ],
   "source": [
    "import pandas as pd\n",
    "from pandas import DataFrame\n",
    "\n",
    "results_df = pd.read_csv('../result.tsv', sep='\\t')\n",
    "results_df['norm1'] = results_df['norm1'].astype(str)\n",
    "results_df['len_norm1'] = results_df['norm1'].apply(lambda row: len(row.split()))\n",
    "results_df['norm2'] = results_df['norm2'].astype(str)\n",
    "results_df['len_norm2'] = results_df['norm2'].apply(lambda row: len(row.split()))\n",
    "len_df = results_df[['len_norm1', 'len_norm2']]\n",
    "display(results_df.columns)\n",
    "len_df.describe(percentiles=[.25, .5, .75, .99])"
   ],
   "metadata": {
    "collapsed": false,
    "pycharm": {
     "name": "#%%\n",
     "is_executing": false
    }
   }
  },
  {
   "cell_type": "code",
   "execution_count": 6,
   "outputs": [
    {
     "data": {
      "text/plain": "count         228\nunique          3\ntop       neutral\nfreq          119\nName: majority_class, dtype: object"
     },
     "metadata": {},
     "output_type": "execute_result",
     "execution_count": 6
    }
   ],
   "source": [
    "conflicts_df = results_df[results_df['conflict']]\n",
    "conflicts_df['majority_class'].describe()"
   ],
   "metadata": {
    "collapsed": false,
    "pycharm": {
     "name": "#%%\n",
     "is_executing": false
    }
   }
  },
  {
   "cell_type": "code",
   "execution_count": 10,
   "outputs": [
    {
     "data": {
      "text/plain": "       entailment_prob  contradiction_prob  neutral_prob  len_norm1  len_norm2\ncount        63.000000           63.000000     63.000000  63.000000  63.000000\nmean         -0.347410           -3.229181     -1.872524  23.952381  18.111111\nstd           0.207560            1.480649      0.738786  11.141941   9.021678\nmin          -0.959303           -6.606812     -4.046466   1.000000   3.000000\n25%          -0.446924           -3.983119     -2.235459  16.000000  12.500000\n50%          -0.355829           -3.171389     -1.687096  22.000000  15.000000\n75%          -0.196351           -2.111051     -1.334587  28.500000  24.500000\nmax          -0.024838           -0.807238     -0.900276  75.000000  46.000000",
      "text/html": "<div>\n<style scoped>\n    .dataframe tbody tr th:only-of-type {\n        vertical-align: middle;\n    }\n\n    .dataframe tbody tr th {\n        vertical-align: top;\n    }\n\n    .dataframe thead th {\n        text-align: right;\n    }\n</style>\n<table border=\"1\" class=\"dataframe\">\n  <thead>\n    <tr style=\"text-align: right;\">\n      <th></th>\n      <th>entailment_prob</th>\n      <th>contradiction_prob</th>\n      <th>neutral_prob</th>\n      <th>len_norm1</th>\n      <th>len_norm2</th>\n    </tr>\n  </thead>\n  <tbody>\n    <tr>\n      <th>count</th>\n      <td>63.000000</td>\n      <td>63.000000</td>\n      <td>63.000000</td>\n      <td>63.000000</td>\n      <td>63.000000</td>\n    </tr>\n    <tr>\n      <th>mean</th>\n      <td>-0.347410</td>\n      <td>-3.229181</td>\n      <td>-1.872524</td>\n      <td>23.952381</td>\n      <td>18.111111</td>\n    </tr>\n    <tr>\n      <th>std</th>\n      <td>0.207560</td>\n      <td>1.480649</td>\n      <td>0.738786</td>\n      <td>11.141941</td>\n      <td>9.021678</td>\n    </tr>\n    <tr>\n      <th>min</th>\n      <td>-0.959303</td>\n      <td>-6.606812</td>\n      <td>-4.046466</td>\n      <td>1.000000</td>\n      <td>3.000000</td>\n    </tr>\n    <tr>\n      <th>25%</th>\n      <td>-0.446924</td>\n      <td>-3.983119</td>\n      <td>-2.235459</td>\n      <td>16.000000</td>\n      <td>12.500000</td>\n    </tr>\n    <tr>\n      <th>50%</th>\n      <td>-0.355829</td>\n      <td>-3.171389</td>\n      <td>-1.687096</td>\n      <td>22.000000</td>\n      <td>15.000000</td>\n    </tr>\n    <tr>\n      <th>75%</th>\n      <td>-0.196351</td>\n      <td>-2.111051</td>\n      <td>-1.334587</td>\n      <td>28.500000</td>\n      <td>24.500000</td>\n    </tr>\n    <tr>\n      <th>max</th>\n      <td>-0.024838</td>\n      <td>-0.807238</td>\n      <td>-0.900276</td>\n      <td>75.000000</td>\n      <td>46.000000</td>\n    </tr>\n  </tbody>\n</table>\n</div>"
     },
     "metadata": {},
     "output_type": "execute_result",
     "execution_count": 10
    }
   ],
   "source": [
    "entail_conflict_df = conflicts_df[conflicts_df['majority_class'] == 'entailment']\n",
    "entail_conflict_df.to_csv('entail_conflicts.tsv', sep='\\t')\n",
    "entail_conflict_df.describe()"
   ],
   "metadata": {
    "collapsed": false,
    "pycharm": {
     "name": "#%%\n",
     "is_executing": false
    }
   }
  },
  {
   "cell_type": "code",
   "execution_count": 11,
   "outputs": [
    {
     "data": {
      "text/plain": "       entailment_prob  contradiction_prob  neutral_prob  len_norm1  len_norm2\ncount        46.000000           46.000000     46.000000  46.000000  46.000000\nmean         -3.003177           -0.270916     -2.826320  19.000000  14.478261\nstd           1.555031            0.231025      1.254055   7.192589   5.935727\nmin          -6.887687           -0.769118     -5.898938   7.000000   5.000000\n25%          -4.005798           -0.408288     -3.581236  16.000000   9.250000\n50%          -2.780901           -0.230343     -2.383924  17.000000  17.000000\n75%          -1.766081           -0.060858     -1.959570  22.000000  18.750000\nmax          -0.823343           -0.005169     -0.768717  44.000000  25.000000",
      "text/html": "<div>\n<style scoped>\n    .dataframe tbody tr th:only-of-type {\n        vertical-align: middle;\n    }\n\n    .dataframe tbody tr th {\n        vertical-align: top;\n    }\n\n    .dataframe thead th {\n        text-align: right;\n    }\n</style>\n<table border=\"1\" class=\"dataframe\">\n  <thead>\n    <tr style=\"text-align: right;\">\n      <th></th>\n      <th>entailment_prob</th>\n      <th>contradiction_prob</th>\n      <th>neutral_prob</th>\n      <th>len_norm1</th>\n      <th>len_norm2</th>\n    </tr>\n  </thead>\n  <tbody>\n    <tr>\n      <th>count</th>\n      <td>46.000000</td>\n      <td>46.000000</td>\n      <td>46.000000</td>\n      <td>46.000000</td>\n      <td>46.000000</td>\n    </tr>\n    <tr>\n      <th>mean</th>\n      <td>-3.003177</td>\n      <td>-0.270916</td>\n      <td>-2.826320</td>\n      <td>19.000000</td>\n      <td>14.478261</td>\n    </tr>\n    <tr>\n      <th>std</th>\n      <td>1.555031</td>\n      <td>0.231025</td>\n      <td>1.254055</td>\n      <td>7.192589</td>\n      <td>5.935727</td>\n    </tr>\n    <tr>\n      <th>min</th>\n      <td>-6.887687</td>\n      <td>-0.769118</td>\n      <td>-5.898938</td>\n      <td>7.000000</td>\n      <td>5.000000</td>\n    </tr>\n    <tr>\n      <th>25%</th>\n      <td>-4.005798</td>\n      <td>-0.408288</td>\n      <td>-3.581236</td>\n      <td>16.000000</td>\n      <td>9.250000</td>\n    </tr>\n    <tr>\n      <th>50%</th>\n      <td>-2.780901</td>\n      <td>-0.230343</td>\n      <td>-2.383924</td>\n      <td>17.000000</td>\n      <td>17.000000</td>\n    </tr>\n    <tr>\n      <th>75%</th>\n      <td>-1.766081</td>\n      <td>-0.060858</td>\n      <td>-1.959570</td>\n      <td>22.000000</td>\n      <td>18.750000</td>\n    </tr>\n    <tr>\n      <th>max</th>\n      <td>-0.823343</td>\n      <td>-0.005169</td>\n      <td>-0.768717</td>\n      <td>44.000000</td>\n      <td>25.000000</td>\n    </tr>\n  </tbody>\n</table>\n</div>"
     },
     "metadata": {},
     "output_type": "execute_result",
     "execution_count": 11
    }
   ],
   "source": [
    "con_conflict_df = conflicts_df[conflicts_df['majority_class'] == 'contradiction']\n",
    "con_conflict_df.to_csv('contradiction_conflicts.tsv', sep='\\t')\n",
    "con_conflict_df.describe()\n"
   ],
   "metadata": {
    "collapsed": false,
    "pycharm": {
     "name": "#%%\n",
     "is_executing": false
    }
   }
  },
  {
   "cell_type": "code",
   "execution_count": null,
   "outputs": [],
   "source": [
    "\n"
   ],
   "metadata": {
    "collapsed": false,
    "pycharm": {
     "name": "#%%\n"
    }
   }
  }
 ],
 "metadata": {
  "language_info": {
   "codemirror_mode": {
    "name": "ipython",
    "version": 2
   },
   "file_extension": ".py",
   "mimetype": "text/x-python",
   "name": "python",
   "nbconvert_exporter": "python",
   "pygments_lexer": "ipython2",
   "version": "2.7.6"
  },
  "kernelspec": {
   "name": "pycharm-342b9ea3",
   "language": "python",
   "display_name": "PyCharm (SNLI-analysis)"
  },
  "pycharm": {
   "stem_cell": {
    "cell_type": "raw",
    "source": [],
    "metadata": {
     "collapsed": false
    }
   }
  }
 },
 "nbformat": 4,
 "nbformat_minor": 0
}