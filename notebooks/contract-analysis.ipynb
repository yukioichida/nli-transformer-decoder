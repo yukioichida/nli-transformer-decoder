{
 "cells": [
  {
   "cell_type": "markdown",
   "metadata": {
    "collapsed": true,
    "pycharm": {
     "name": "#%% md\n"
    }
   },
   "source": [
    "# Contract Analysis\n",
    "- We apply the neural network with pre-trained weights on norms contained in contracts."
   ]
  },
  {
   "cell_type": "code",
   "execution_count": 17,
   "outputs": [
    {
     "data": {
      "text/plain": "          len_norm1     len_norm2\ncount  13742.000000  13742.000000\nmean      34.560690     34.607335\nstd       34.305647     33.738959\nmin        1.000000      1.000000\n25%       15.000000     16.000000\n50%       26.000000     26.000000\n75%       43.000000     43.000000\n99%      167.000000    163.000000\nmax      427.000000    473.000000",
      "text/html": "<div>\n<style scoped>\n    .dataframe tbody tr th:only-of-type {\n        vertical-align: middle;\n    }\n\n    .dataframe tbody tr th {\n        vertical-align: top;\n    }\n\n    .dataframe thead th {\n        text-align: right;\n    }\n</style>\n<table border=\"1\" class=\"dataframe\">\n  <thead>\n    <tr style=\"text-align: right;\">\n      <th></th>\n      <th>len_norm1</th>\n      <th>len_norm2</th>\n    </tr>\n  </thead>\n  <tbody>\n    <tr>\n      <th>count</th>\n      <td>13742.000000</td>\n      <td>13742.000000</td>\n    </tr>\n    <tr>\n      <th>mean</th>\n      <td>34.560690</td>\n      <td>34.607335</td>\n    </tr>\n    <tr>\n      <th>std</th>\n      <td>34.305647</td>\n      <td>33.738959</td>\n    </tr>\n    <tr>\n      <th>min</th>\n      <td>1.000000</td>\n      <td>1.000000</td>\n    </tr>\n    <tr>\n      <th>25%</th>\n      <td>15.000000</td>\n      <td>16.000000</td>\n    </tr>\n    <tr>\n      <th>50%</th>\n      <td>26.000000</td>\n      <td>26.000000</td>\n    </tr>\n    <tr>\n      <th>75%</th>\n      <td>43.000000</td>\n      <td>43.000000</td>\n    </tr>\n    <tr>\n      <th>99%</th>\n      <td>167.000000</td>\n      <td>163.000000</td>\n    </tr>\n    <tr>\n      <th>max</th>\n      <td>427.000000</td>\n      <td>473.000000</td>\n    </tr>\n  </tbody>\n</table>\n</div>"
     },
     "metadata": {},
     "output_type": "execute_result",
     "execution_count": 17
    }
   ],
   "source": [
    "import pandas as pd\n",
    "from pandas import DataFrame\n",
    "\n",
    "results_df = pd.read_csv('../result.tsv', sep='\\t')\n",
    "results_df['norm1'] = results_df['norm1'].astype(str)\n",
    "results_df['len_norm1'] = results_df['norm1'].apply(lambda row: len(row.split()))\n",
    "results_df['norm2'] = results_df['norm2'].astype(str)\n",
    "results_df['len_norm2'] = results_df['norm2'].apply(lambda row: len(row.split()))\n",
    "len_df = results_df[['len_norm1', 'len_norm2']]\n",
    "len_df.describe(percentiles=[.25, .5, .75, .99])"
   ],
   "metadata": {
    "collapsed": false,
    "pycharm": {
     "name": "#%%\n",
     "is_executing": false
    }
   }
  },
  {
   "cell_type": "code",
   "execution_count": 15,
   "outputs": [
    {
     "data": {
      "text/plain": "count               228\nunique                3\ntop       contradiction\nfreq                 99\nName: result, dtype: object"
     },
     "metadata": {},
     "output_type": "execute_result",
     "execution_count": 15
    }
   ],
   "source": [
    "conflicts_df = results_df[results_df['conflict']]\n",
    "conflicts_df['result'].describe()"
   ],
   "metadata": {
    "collapsed": false,
    "pycharm": {
     "name": "#%%\n",
     "is_executing": false
    }
   }
  },
  {
   "cell_type": "code",
   "execution_count": 10,
   "outputs": [],
   "source": [
    "entail_conflict_df = conflicts_df[conflicts_df['result'] == 'entailment']\n",
    "entail_conflict_df.to_csv('entail_conflicts.tsv', sep='\\t')"
   ],
   "metadata": {
    "collapsed": false,
    "pycharm": {
     "name": "#%%\n",
     "is_executing": false
    }
   }
  },
  {
   "cell_type": "code",
   "execution_count": 13,
   "outputs": [],
   "source": [
    "con_conflict_df = conflicts_df[conflicts_df['result'] == 'contradiction']\n",
    "con_conflict_df.to_csv('contradiction_conflicts.tsv', sep='\\t')\n"
   ],
   "metadata": {
    "collapsed": false,
    "pycharm": {
     "name": "#%%\n",
     "is_executing": false
    }
   }
  },
  {
   "cell_type": "code",
   "execution_count": null,
   "outputs": [],
   "source": [
    "\n"
   ],
   "metadata": {
    "collapsed": false,
    "pycharm": {
     "name": "#%%\n"
    }
   }
  }
 ],
 "metadata": {
  "language_info": {
   "codemirror_mode": {
    "name": "ipython",
    "version": 2
   },
   "file_extension": ".py",
   "mimetype": "text/x-python",
   "name": "python",
   "nbconvert_exporter": "python",
   "pygments_lexer": "ipython2",
   "version": "2.7.6"
  },
  "kernelspec": {
   "name": "pycharm-342b9ea3",
   "language": "python",
   "display_name": "PyCharm (SNLI-analysis)"
  },
  "pycharm": {
   "stem_cell": {
    "cell_type": "raw",
    "source": [],
    "metadata": {
     "collapsed": false
    }
   }
  }
 },
 "nbformat": 4,
 "nbformat_minor": 0
}