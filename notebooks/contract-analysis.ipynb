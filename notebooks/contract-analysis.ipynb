{
 "cells": [
  {
   "cell_type": "markdown",
   "metadata": {
    "collapsed": true,
    "pycharm": {
     "name": "#%% md\n"
    }
   },
   "source": [
    "# Contract Analysis\n",
    "- We apply the neural network with pre-trained weights on norms contained in contracts."
   ]
  },
  {
   "cell_type": "code",
   "execution_count": 1,
   "outputs": [
    {
     "data": {
      "text/plain": "Index(['norm1', 'norm2', 'conflict'], dtype='object')"
     },
     "metadata": {},
     "output_type": "display_data"
    }
   ],
   "source": [
    "import pandas as pd\n",
    "import torch\n",
    "from modules.model import TransformerDecoder\n",
    "from pandas import DataFrame\n",
    "BASE_PATH = \"../.data/contract-datasets/\"\n",
    "CONTRACT_DATASET_FILE = BASE_PATH + \"all_contracts.tsv\"\n",
    "\n",
    "df_contract: DataFrame = pd.read_csv(CONTRACT_DATASET_FILE, sep='\\t')\n",
    "display(df_contract.columns)\n"
   ],
   "metadata": {
    "collapsed": false,
    "pycharm": {
     "name": "#%%\n",
     "is_executing": false
    }
   }
  },
  {
   "cell_type": "code",
   "execution_count": 2,
   "outputs": [],
   "source": [
    "from modules.preprocess import SNLIPreProcess, ContractPreProcess\n",
    "from modules.log import get_logger\n",
    "\n",
    "BATCH_SIZE = 32\n",
    "device = torch.device(\"cuda\" if torch.cuda.is_available() else \"cpu\")\n",
    "logger = get_logger('contract_analysis', '../')\n",
    "\n",
    "preprocess = SNLIPreProcess(device, logger, 48, 28, BATCH_SIZE, base_path='../.data')\n",
    "preprocess.build_vocab()\n",
    "train_vocab = preprocess.sentence_field.vocab"
   ],
   "metadata": {
    "collapsed": false,
    "pycharm": {
     "name": "#%%\n",
     "is_executing": false
    }
   }
  },
  {
   "cell_type": "code",
   "execution_count": 3,
   "outputs": [],
   "source": [
    "\n",
    "contract_preprocess = ContractPreProcess(device,logger,48,28,BATCH_SIZE, base_path='../.data')\n",
    "contract_preprocess.load_pretrained_vocab(train_vocab)\n",
    "contract_vocab = contract_preprocess.sentence_field.vocab"
   ],
   "metadata": {
    "collapsed": false,
    "pycharm": {
     "name": "#%%\n",
     "is_executing": false
    }
   }
  },
  {
   "cell_type": "code",
   "execution_count": 4,
   "outputs": [
    {
     "data": {
      "text/plain": "11913"
     },
     "metadata": {},
     "output_type": "display_data"
    },
    {
     "data": {
      "text/plain": "11913"
     },
     "metadata": {},
     "output_type": "display_data"
    }
   ],
   "source": [
    "display(train_vocab.stoi['subject'])\n",
    "display(contract_vocab.stoi['subject'])"
   ],
   "metadata": {
    "collapsed": false,
    "pycharm": {
     "name": "#%%\n",
     "is_executing": false
    }
   }
  },
  {
   "cell_type": "code",
   "execution_count": 6,
   "outputs": [
    {
     "name": "stderr",
     "text": [
      "2019-07-13 19:39:42,293 - contract_analysis - Vocabulary size: 56220\n"
     ],
     "output_type": "stream"
    }
   ],
   "source": [
    "test_iter = contract_preprocess.build_iterators(build_vocab=False)"
   ],
   "metadata": {
    "collapsed": false,
    "pycharm": {
     "name": "#%%\n",
     "is_executing": false
    }
   }
  },
  {
   "cell_type": "markdown",
   "source": [
    "# Predicting NLI classes for norms"
   ],
   "metadata": {
    "collapsed": false,
    "pycharm": {
     "name": "#%% md\n"
    }
   }
  },
  {
   "cell_type": "code",
   "execution_count": 9,
   "outputs": [
    {
     "traceback": [
      "\u001b[0;31m---------------------------------------------------------------------------\u001b[0m",
      "\u001b[0;31mTypeError\u001b[0m                                 Traceback (most recent call last)",
      "\u001b[0;32m<ipython-input-9-5757357d0df2>\u001b[0m in \u001b[0;36m<module>\u001b[0;34m\u001b[0m\n\u001b[1;32m     10\u001b[0m model = TransformerDecoder(vocab_size=vocab_size, max_seq_length=max_seq_size, \n\u001b[1;32m     11\u001b[0m                            \u001b[0mword_embedding_dim\u001b[0m\u001b[0;34m=\u001b[0m\u001b[0;36m120\u001b[0m\u001b[0;34m,\u001b[0m \u001b[0mn_heads\u001b[0m\u001b[0;34m=\u001b[0m\u001b[0;36m12\u001b[0m\u001b[0;34m,\u001b[0m \u001b[0mn_blocks\u001b[0m\u001b[0;34m=\u001b[0m\u001b[0;36m12\u001b[0m\u001b[0;34m,\u001b[0m\u001b[0;34m\u001b[0m\u001b[0;34m\u001b[0m\u001b[0m\n\u001b[0;32m---> 12\u001b[0;31m                            output_dim=n_classes, eos_vocab_index=eos_vocab_index)\n\u001b[0m\u001b[1;32m     13\u001b[0m \u001b[0mmodel\u001b[0m\u001b[0;34m.\u001b[0m\u001b[0mload_state_dict\u001b[0m\u001b[0;34m(\u001b[0m\u001b[0mtorch\u001b[0m\u001b[0;34m.\u001b[0m\u001b[0mload\u001b[0m\u001b[0;34m(\u001b[0m\u001b[0mPRETRAINED_WEIGHTS\u001b[0m\u001b[0;34m)\u001b[0m\u001b[0;34m)\u001b[0m\u001b[0;34m\u001b[0m\u001b[0;34m\u001b[0m\u001b[0m\n\u001b[1;32m     14\u001b[0m \u001b[0;34m\u001b[0m\u001b[0m\n",
      "\u001b[0;31mTypeError\u001b[0m: __init__() got an unexpected keyword argument 'eos_vocab_index'"
     ],
     "ename": "TypeError",
     "evalue": "__init__() got an unexpected keyword argument 'eos_vocab_index'",
     "output_type": "error"
    }
   ],
   "source": [
    "from modules.model import TransformerDecoder\n",
    "\n",
    "PRETRAINED_WEIGHTS = \"../saved_models/id-SNLI-12blk-12h-120d-8batch_model_52_acc=0.7919122.pth\"\n",
    "\n",
    "vocab_size = len(train_vocab)\n",
    "max_seq_size = 48 + 28 + 1\n",
    "eos_vocab_index = vocab_size\n",
    "n_classes = len(preprocess.label_field.vocab)\n",
    "\n",
    "model = TransformerDecoder(vocab_size=vocab_size, max_seq_length=max_seq_size, \n",
    "                           word_embedding_dim=120, n_heads=12, n_blocks=12, \n",
    "                           output_dim=n_classes, eos_token=eos_vocab_index)\n",
    "model.load_state_dict(torch.load(PRETRAINED_WEIGHTS))\n",
    "\n",
    "model.eval()"
   ],
   "metadata": {
    "collapsed": false,
    "pycharm": {
     "name": "#%%\n",
     "is_executing": false
    }
   }
  },
  {
   "cell_type": "code",
   "execution_count": null,
   "outputs": [],
   "source": [
    "\n"
   ],
   "metadata": {
    "collapsed": false,
    "pycharm": {
     "name": "#%%\n"
    }
   }
  }
 ],
 "metadata": {
  "language_info": {
   "codemirror_mode": {
    "name": "ipython",
    "version": 2
   },
   "file_extension": ".py",
   "mimetype": "text/x-python",
   "name": "python",
   "nbconvert_exporter": "python",
   "pygments_lexer": "ipython2",
   "version": "2.7.6"
  },
  "kernelspec": {
   "name": "pycharm-342b9ea3",
   "language": "python",
   "display_name": "PyCharm (SNLI-analysis)"
  },
  "pycharm": {
   "stem_cell": {
    "cell_type": "raw",
    "source": [],
    "metadata": {
     "collapsed": false
    }
   }
  }
 },
 "nbformat": 4,
 "nbformat_minor": 0
}