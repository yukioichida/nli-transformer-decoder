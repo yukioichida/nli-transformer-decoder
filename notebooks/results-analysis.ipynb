{
 "cells": [
  {
   "cell_type": "code",
   "execution_count": 3,
   "metadata": {
    "collapsed": true,
    "pycharm": {
     "is_executing": false
    }
   },
   "outputs": [
    {
     "data": {
      "text/plain": "          conf_type  entailment_prob  contradiction_prob  neutral_prob  \\\ncount  13742.000000     13742.000000        13742.000000  13742.000000   \nmean       4.951172         0.269005            0.156230      0.574765   \nstd        0.402691         0.322629            0.250250      0.355073   \nmin        1.000000         0.000096            0.000132      0.000878   \n25%        5.000000         0.014022            0.011400      0.214580   \n50%        5.000000         0.099608            0.040200      0.651535   \n75%        5.000000         0.472836            0.161544      0.927503   \nmax        5.000000         0.998979            0.998650      0.998914   \n\n       rev_entailment_prob  rev_contradiction_prob  rev_neutral_prob  \ncount         13742.000000            13742.000000      13742.000000  \nmean              0.267021                0.154121          0.578859  \nstd               0.321174                0.245327          0.353571  \nmin               0.000095                0.000130          0.000641  \n25%               0.013774                0.011588          0.220821  \n50%               0.100516                0.040605          0.656072  \n75%               0.469280                0.158731          0.927940  \nmax               0.998005                0.998950          0.999300  ",
      "text/html": "<div>\n<style scoped>\n    .dataframe tbody tr th:only-of-type {\n        vertical-align: middle;\n    }\n\n    .dataframe tbody tr th {\n        vertical-align: top;\n    }\n\n    .dataframe thead th {\n        text-align: right;\n    }\n</style>\n<table border=\"1\" class=\"dataframe\">\n  <thead>\n    <tr style=\"text-align: right;\">\n      <th></th>\n      <th>conf_type</th>\n      <th>entailment_prob</th>\n      <th>contradiction_prob</th>\n      <th>neutral_prob</th>\n      <th>rev_entailment_prob</th>\n      <th>rev_contradiction_prob</th>\n      <th>rev_neutral_prob</th>\n    </tr>\n  </thead>\n  <tbody>\n    <tr>\n      <td>count</td>\n      <td>13742.000000</td>\n      <td>13742.000000</td>\n      <td>13742.000000</td>\n      <td>13742.000000</td>\n      <td>13742.000000</td>\n      <td>13742.000000</td>\n      <td>13742.000000</td>\n    </tr>\n    <tr>\n      <td>mean</td>\n      <td>4.951172</td>\n      <td>0.269005</td>\n      <td>0.156230</td>\n      <td>0.574765</td>\n      <td>0.267021</td>\n      <td>0.154121</td>\n      <td>0.578859</td>\n    </tr>\n    <tr>\n      <td>std</td>\n      <td>0.402691</td>\n      <td>0.322629</td>\n      <td>0.250250</td>\n      <td>0.355073</td>\n      <td>0.321174</td>\n      <td>0.245327</td>\n      <td>0.353571</td>\n    </tr>\n    <tr>\n      <td>min</td>\n      <td>1.000000</td>\n      <td>0.000096</td>\n      <td>0.000132</td>\n      <td>0.000878</td>\n      <td>0.000095</td>\n      <td>0.000130</td>\n      <td>0.000641</td>\n    </tr>\n    <tr>\n      <td>25%</td>\n      <td>5.000000</td>\n      <td>0.014022</td>\n      <td>0.011400</td>\n      <td>0.214580</td>\n      <td>0.013774</td>\n      <td>0.011588</td>\n      <td>0.220821</td>\n    </tr>\n    <tr>\n      <td>50%</td>\n      <td>5.000000</td>\n      <td>0.099608</td>\n      <td>0.040200</td>\n      <td>0.651535</td>\n      <td>0.100516</td>\n      <td>0.040605</td>\n      <td>0.656072</td>\n    </tr>\n    <tr>\n      <td>75%</td>\n      <td>5.000000</td>\n      <td>0.472836</td>\n      <td>0.161544</td>\n      <td>0.927503</td>\n      <td>0.469280</td>\n      <td>0.158731</td>\n      <td>0.927940</td>\n    </tr>\n    <tr>\n      <td>max</td>\n      <td>5.000000</td>\n      <td>0.998979</td>\n      <td>0.998650</td>\n      <td>0.998914</td>\n      <td>0.998005</td>\n      <td>0.998950</td>\n      <td>0.999300</td>\n    </tr>\n  </tbody>\n</table>\n</div>"
     },
     "metadata": {},
     "output_type": "execute_result",
     "execution_count": 3
    }
   ],
   "source": [
    "import pandas as pd\n",
    "\n",
    "results_df = pd.read_csv('../result.tsv', sep='\\t')\n",
    "results_df.describe()"
   ]
  },
  {
   "cell_type": "code",
   "execution_count": 5,
   "outputs": [
    {
     "data": {
      "text/plain": "Index(['conf_type', 'conflict', 'norm1', 'norm2', 'majority_class',\n       'entailment_prob', 'contradiction_prob', 'neutral_prob',\n       'rev_majority_class', 'rev_entailment_prob', 'rev_contradiction_prob',\n       'rev_neutral_prob'],\n      dtype='object')"
     },
     "metadata": {},
     "output_type": "execute_result",
     "execution_count": 5
    }
   ],
   "source": [
    "results_df.columns"
   ],
   "metadata": {
    "collapsed": false,
    "pycharm": {
     "name": "#%%\n",
     "is_executing": false
    }
   }
  },
  {
   "cell_type": "code",
   "execution_count": 18,
   "outputs": [
    {
     "data": {
      "text/plain": "'Conflicting norms: 228'"
     },
     "metadata": {},
     "output_type": "display_data"
    },
    {
     "data": {
      "text/plain": "array(['entailment', 'contradiction', 'neutral'], dtype=object)"
     },
     "metadata": {},
     "output_type": "display_data"
    }
   ],
   "source": [
    "conflict_df = results_df[results_df['conflict']]\n",
    "display(f'Conflicting norms: {len(conflict_df)}')\n",
    "display(conflict_df['majority_class'].unique())"
   ],
   "metadata": {
    "collapsed": false,
    "pycharm": {
     "name": "#%%\n",
     "is_executing": false
    }
   }
  },
  {
   "cell_type": "code",
   "execution_count": 25,
   "outputs": [
    {
     "data": {
      "text/plain": "'Non conflicting norms: 13514'"
     },
     "metadata": {},
     "output_type": "display_data"
    }
   ],
   "source": [
    "nonconflict_df = results_df[~results_df['conflict']]\n",
    "display(f'Non conflicting norms: {len(nonconflict_df)}')"
   ],
   "metadata": {
    "collapsed": false,
    "pycharm": {
     "name": "#%%\n",
     "is_executing": false
    }
   }
  },
  {
   "cell_type": "markdown",
   "source": [
    "## Contradictions detected in conflicting norm pairs"
   ],
   "metadata": {
    "collapsed": false,
    "pycharm": {
     "name": "#%% md\n"
    }
   }
  },
  {
   "cell_type": "code",
   "execution_count": 29,
   "outputs": [
    {
     "data": {
      "text/plain": "'Conflicting pairs that are contradictions: 59'"
     },
     "metadata": {},
     "output_type": "display_data"
    },
    {
     "data": {
      "text/plain": "'Conflicting pairs that are not contradictions: 169'"
     },
     "metadata": {},
     "output_type": "display_data"
    }
   ],
   "source": [
    "conflict_contradictions_df = conflict_df[(conflict_df['majority_class'] == 'contradiction')\\\n",
    "                             | (conflict_df['rev_majority_class'] == 'contradiction')]\n",
    "display(f'Conflicting pairs that are contradictions: {len(conflict_contradictions_df)}')\n",
    "conflict_noncontradictions_df = conflict_df[(conflict_df['majority_class'] != 'contradiction')\\\n",
    "                             & (conflict_df['rev_majority_class'] != 'contradiction')]\n",
    "display(f'Conflicting pairs that are not contradictions: {len(conflict_noncontradictions_df)}')"
   ],
   "metadata": {
    "collapsed": false,
    "pycharm": {
     "name": "#%%\n",
     "is_executing": false
    }
   }
  },
  {
   "cell_type": "code",
   "execution_count": 30,
   "outputs": [
    {
     "data": {
      "text/plain": "'Non Conflicting pairs that are not contradictions: 10578'"
     },
     "metadata": {},
     "output_type": "display_data"
    },
    {
     "name": "stderr",
     "text": [
      "/Users/alexandre/anaconda3/envs/nli-transformer-decoder/lib/python3.6/site-packages/ipykernel_launcher.py:6: UserWarning: Boolean Series key will be reindexed to match DataFrame index.\n  \n"
     ],
     "output_type": "stream"
    },
    {
     "data": {
      "text/plain": "'Non Conflicting pairs that are contradictions: 0'"
     },
     "metadata": {},
     "output_type": "display_data"
    }
   ],
   "source": [
    "nonconflict_noncontradictions_df = nonconflict_df[(nonconflict_df['majority_class'] != 'contradiction')\\\n",
    "                             & (nonconflict_df['rev_majority_class'] != 'contradiction')]\n",
    "display(f'Non Conflicting pairs that are not contradictions: {len(nonconflict_noncontradictions_df)}')\n",
    "\n",
    "nonconflict_contradictions_df = nonconflict_df[(conflict_df['majority_class'] == 'contradiction')\\\n",
    "                             | (nonconflict_df['rev_majority_class'] == 'contradiction')]\n",
    "display(f'Non Conflicting pairs that are contradictions: {len(nonconflict_contradictions_df)}')"
   ],
   "metadata": {
    "collapsed": false,
    "pycharm": {
     "name": "#%%\n",
     "is_executing": false
    }
   }
  },
  {
   "cell_type": "markdown",
   "source": [
    "- True Positives: conflicting norms that are contradictions\n",
    "- False Negatives: conflicting norms that are **not** contradictions\n",
    "- True Negatives : non conflicting norms that are **not** contradictions\n",
    "- False Negatives: non conflicting norms that are contradictions"
   ],
   "metadata": {
    "collapsed": false,
    "pycharm": {
     "name": "#%% md\n"
    }
   }
  },
  {
   "cell_type": "code",
   "source": [
    "tp = len(conflict_contradictions_df)\n",
    "fp = len(conflict_noncontradictions_df)\n",
    "tn = len(nonconflict_noncontradictions_df)\n",
    "fn = len(nonconflict_contradictions_df)\n",
    "\n",
    "precision = tp / (tp+fp)\n",
    "recall = tp / (tp + fn)\n",
    "\n",
    "display(f'Precision: {precision: 0.3f} - Recall = {recall: 0.3f}')\n",
    "\n"
   ],
   "metadata": {
    "collapsed": false,
    "pycharm": {
     "name": "#%% \n",
     "is_executing": false
    }
   },
   "execution_count": 31,
   "outputs": [
    {
     "data": {
      "text/plain": "'Precision:  0.259 - Recall =  1.000'"
     },
     "metadata": {},
     "output_type": "display_data"
    }
   ]
  },
  {
   "cell_type": "code",
   "execution_count": null,
   "outputs": [],
   "source": [
    "\n"
   ],
   "metadata": {
    "collapsed": false,
    "pycharm": {
     "name": "#%%\n"
    }
   }
  }
 ],
 "metadata": {
  "language_info": {
   "codemirror_mode": {
    "name": "ipython",
    "version": 2
   },
   "file_extension": ".py",
   "mimetype": "text/x-python",
   "name": "python",
   "nbconvert_exporter": "python",
   "pygments_lexer": "ipython2",
   "version": "2.7.6"
  },
  "kernelspec": {
   "name": "python3",
   "language": "python",
   "display_name": "Python 3"
  },
  "pycharm": {
   "stem_cell": {
    "cell_type": "raw",
    "source": [],
    "metadata": {
     "collapsed": false
    }
   }
  }
 },
 "nbformat": 4,
 "nbformat_minor": 0
}